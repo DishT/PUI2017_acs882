{
 "cells": [
  {
   "cell_type": "code",
   "execution_count": 197,
   "metadata": {
    "collapsed": false
   },
   "outputs": [],
   "source": [
    "import pandas as pd\n",
    "data = pd.read_csv('PUI2017_acs882/HW3_acs882/JC-201706-citibike-tripdata.csv') "
   ]
  },
  {
   "cell_type": "code",
   "execution_count": 198,
   "metadata": {
    "collapsed": false
   },
   "outputs": [
    {
     "name": "stdout",
     "output_type": "stream",
     "text": [
      "Populating the interactive namespace from numpy and matplotlib\n"
     ]
    }
   ],
   "source": [
    "from __future__  import print_function, division\n",
    "import pylab as pl\n",
    "import pandas as pd\n",
    "import numpy as np\n",
    "import os\n",
    "import seaborn\n",
    "\n",
    "%pylab inline\n",
    "'''\n",
    "if os.getenv ('PUI2016') is None:\n",
    "    print (\"Must set env variable PUI2016\")\n",
    "if os.getenv ('PUIDATA') is None:\n",
    "    print (\"Must set env variable PUI2016\")\n",
    "'''\n",
    "import os\n",
    "import json\n",
    "#s = json.load( open(os.getenv('PUI2016') + \"/fbb_matplotlibrc.json\") )\n",
    "#pl.rcParams.update(s)"
   ]
  },
  {
   "cell_type": "markdown",
   "metadata": {},
   "source": [
    "## Idea: \n",
    "Men are more likely to bike after dark than women"
   ]
  },
  {
   "cell_type": "markdown",
   "metadata": {},
   "source": [
    "## Null Hypothesis:\n",
    "The ratio of men to women biking between the hours of 7pm-7am will be the same as or less than the ratio of men to women biking between 7am-7pm"
   ]
  },
  {
   "cell_type": "markdown",
   "metadata": {},
   "source": [
    "$H_0$ : $\\frac{W_{\\mathrm{light}}}{W_{\\mathrm{dark}}} - \\frac{M_{\\mathrm{light}}}{M_{\\mathrm{dark}}} <= 0 $\n"
   ]
  },
  {
   "cell_type": "markdown",
   "metadata": {},
   "source": [
    "$H_1$ : $\\frac{W_{\\mathrm{light}}}{W_{\\mathrm{dark}}} - \\frac{M_{\\mathrm{light}}}{M_{\\mathrm{dark}}} > 0$\n"
   ]
  },
  {
   "cell_type": "markdown",
   "metadata": {},
   "source": [
    "I will use a significance level  $\\alpha=0.05$\n",
    "which means i want the probability of getting a result at least as significant as mine to be less then 5%.\n"
   ]
  },
  {
   "cell_type": "markdown",
   "metadata": {},
   "source": [
    "I will be using data from a Citibike CSV file, detailing trips taken in May 2017"
   ]
  },
  {
   "cell_type": "code",
   "execution_count": 199,
   "metadata": {
    "collapsed": false
   },
   "outputs": [
    {
     "data": {
      "text/html": [
       "<div>\n",
       "<table border=\"1\" class=\"dataframe\">\n",
       "  <thead>\n",
       "    <tr style=\"text-align: right;\">\n",
       "      <th></th>\n",
       "      <th>tripduration</th>\n",
       "      <th>starttime</th>\n",
       "      <th>stoptime</th>\n",
       "      <th>start station id</th>\n",
       "      <th>start station name</th>\n",
       "      <th>start station latitude</th>\n",
       "      <th>start station longitude</th>\n",
       "      <th>end station id</th>\n",
       "      <th>end station name</th>\n",
       "      <th>end station latitude</th>\n",
       "      <th>end station longitude</th>\n",
       "      <th>bikeid</th>\n",
       "      <th>usertype</th>\n",
       "      <th>birth year</th>\n",
       "      <th>gender</th>\n",
       "    </tr>\n",
       "  </thead>\n",
       "  <tbody>\n",
       "    <tr>\n",
       "      <th>0</th>\n",
       "      <td>499</td>\n",
       "      <td>2017-06-01 00:01:39</td>\n",
       "      <td>2017-06-01 00:09:59</td>\n",
       "      <td>3195</td>\n",
       "      <td>Sip Ave</td>\n",
       "      <td>40.730743</td>\n",
       "      <td>-74.063784</td>\n",
       "      <td>3194</td>\n",
       "      <td>McGinley Square</td>\n",
       "      <td>40.725340</td>\n",
       "      <td>-74.067622</td>\n",
       "      <td>29590</td>\n",
       "      <td>Subscriber</td>\n",
       "      <td>1979.0</td>\n",
       "      <td>1</td>\n",
       "    </tr>\n",
       "    <tr>\n",
       "      <th>1</th>\n",
       "      <td>507</td>\n",
       "      <td>2017-06-01 00:06:39</td>\n",
       "      <td>2017-06-01 00:15:07</td>\n",
       "      <td>3211</td>\n",
       "      <td>Newark Ave</td>\n",
       "      <td>40.721525</td>\n",
       "      <td>-74.046305</td>\n",
       "      <td>3277</td>\n",
       "      <td>Communipaw &amp; Berry Lane</td>\n",
       "      <td>40.714358</td>\n",
       "      <td>-74.066611</td>\n",
       "      <td>29453</td>\n",
       "      <td>Subscriber</td>\n",
       "      <td>1969.0</td>\n",
       "      <td>1</td>\n",
       "    </tr>\n",
       "    <tr>\n",
       "      <th>2</th>\n",
       "      <td>768</td>\n",
       "      <td>2017-06-01 00:44:43</td>\n",
       "      <td>2017-06-01 00:57:31</td>\n",
       "      <td>3195</td>\n",
       "      <td>Sip Ave</td>\n",
       "      <td>40.730743</td>\n",
       "      <td>-74.063784</td>\n",
       "      <td>3189</td>\n",
       "      <td>West Side Light Rail</td>\n",
       "      <td>40.714402</td>\n",
       "      <td>-74.088772</td>\n",
       "      <td>26193</td>\n",
       "      <td>Subscriber</td>\n",
       "      <td>1962.0</td>\n",
       "      <td>1</td>\n",
       "    </tr>\n",
       "    <tr>\n",
       "      <th>3</th>\n",
       "      <td>101</td>\n",
       "      <td>2017-06-01 01:12:55</td>\n",
       "      <td>2017-06-01 01:14:36</td>\n",
       "      <td>3185</td>\n",
       "      <td>City Hall</td>\n",
       "      <td>40.717733</td>\n",
       "      <td>-74.043845</td>\n",
       "      <td>3213</td>\n",
       "      <td>Van Vorst Park</td>\n",
       "      <td>40.718489</td>\n",
       "      <td>-74.047727</td>\n",
       "      <td>29284</td>\n",
       "      <td>Subscriber</td>\n",
       "      <td>1983.0</td>\n",
       "      <td>1</td>\n",
       "    </tr>\n",
       "    <tr>\n",
       "      <th>4</th>\n",
       "      <td>265</td>\n",
       "      <td>2017-06-01 01:14:00</td>\n",
       "      <td>2017-06-01 01:18:25</td>\n",
       "      <td>3273</td>\n",
       "      <td>Manila &amp; 1st</td>\n",
       "      <td>40.721651</td>\n",
       "      <td>-74.042884</td>\n",
       "      <td>3278</td>\n",
       "      <td>Monmouth and 6th</td>\n",
       "      <td>40.725685</td>\n",
       "      <td>-74.048790</td>\n",
       "      <td>29645</td>\n",
       "      <td>Subscriber</td>\n",
       "      <td>1980.0</td>\n",
       "      <td>2</td>\n",
       "    </tr>\n",
       "  </tbody>\n",
       "</table>\n",
       "</div>"
      ],
      "text/plain": [
       "   tripduration            starttime             stoptime  start station id  \\\n",
       "0           499  2017-06-01 00:01:39  2017-06-01 00:09:59              3195   \n",
       "1           507  2017-06-01 00:06:39  2017-06-01 00:15:07              3211   \n",
       "2           768  2017-06-01 00:44:43  2017-06-01 00:57:31              3195   \n",
       "3           101  2017-06-01 01:12:55  2017-06-01 01:14:36              3185   \n",
       "4           265  2017-06-01 01:14:00  2017-06-01 01:18:25              3273   \n",
       "\n",
       "  start station name  start station latitude  start station longitude  \\\n",
       "0            Sip Ave               40.730743               -74.063784   \n",
       "1         Newark Ave               40.721525               -74.046305   \n",
       "2            Sip Ave               40.730743               -74.063784   \n",
       "3          City Hall               40.717733               -74.043845   \n",
       "4       Manila & 1st               40.721651               -74.042884   \n",
       "\n",
       "   end station id         end station name  end station latitude  \\\n",
       "0            3194          McGinley Square             40.725340   \n",
       "1            3277  Communipaw & Berry Lane             40.714358   \n",
       "2            3189     West Side Light Rail             40.714402   \n",
       "3            3213           Van Vorst Park             40.718489   \n",
       "4            3278         Monmouth and 6th             40.725685   \n",
       "\n",
       "   end station longitude  bikeid    usertype  birth year  gender  \n",
       "0             -74.067622   29590  Subscriber      1979.0       1  \n",
       "1             -74.066611   29453  Subscriber      1969.0       1  \n",
       "2             -74.088772   26193  Subscriber      1962.0       1  \n",
       "3             -74.047727   29284  Subscriber      1983.0       1  \n",
       "4             -74.048790   29645  Subscriber      1980.0       2  "
      ]
     },
     "execution_count": 199,
     "metadata": {},
     "output_type": "execute_result"
    }
   ],
   "source": [
    "df = pd.read_csv('JC-201706-citibike-tripdata.csv')\n",
    "df.head()"
   ]
  },
  {
   "cell_type": "code",
   "execution_count": 200,
   "metadata": {
    "collapsed": false
   },
   "outputs": [
    {
     "name": "stderr",
     "output_type": "stream",
     "text": [
      "/Users/alexandershannon/anaconda/lib/python3.6/site-packages/pandas/computation/expressions.py:182: UserWarning: evaluating in Python space because the '+' operator is not supported by numexpr for the bool dtype, use '|' instead\n",
      "  unsupported[op_str]))\n"
     ]
    },
    {
     "data": {
      "text/html": [
       "<div>\n",
       "<table border=\"1\" class=\"dataframe\">\n",
       "  <thead>\n",
       "    <tr style=\"text-align: right;\">\n",
       "      <th></th>\n",
       "      <th>gender</th>\n",
       "      <th>time_of_day</th>\n",
       "      <th>dark</th>\n",
       "    </tr>\n",
       "  </thead>\n",
       "  <tbody>\n",
       "    <tr>\n",
       "      <th>0</th>\n",
       "      <td>1</td>\n",
       "      <td>0</td>\n",
       "      <td>True</td>\n",
       "    </tr>\n",
       "    <tr>\n",
       "      <th>1</th>\n",
       "      <td>1</td>\n",
       "      <td>0</td>\n",
       "      <td>True</td>\n",
       "    </tr>\n",
       "    <tr>\n",
       "      <th>2</th>\n",
       "      <td>1</td>\n",
       "      <td>0</td>\n",
       "      <td>True</td>\n",
       "    </tr>\n",
       "    <tr>\n",
       "      <th>3</th>\n",
       "      <td>1</td>\n",
       "      <td>1</td>\n",
       "      <td>True</td>\n",
       "    </tr>\n",
       "    <tr>\n",
       "      <th>4</th>\n",
       "      <td>2</td>\n",
       "      <td>1</td>\n",
       "      <td>True</td>\n",
       "    </tr>\n",
       "  </tbody>\n",
       "</table>\n",
       "</div>"
      ],
      "text/plain": [
       "   gender  time_of_day  dark\n",
       "0       1            0  True\n",
       "1       1            0  True\n",
       "2       1            0  True\n",
       "3       1            1  True\n",
       "4       2            1  True"
      ]
     },
     "execution_count": 200,
     "metadata": {},
     "output_type": "execute_result"
    }
   ],
   "source": [
    "df.drop(['tripduration', 'stoptime', 'start station id',\n",
    "       'start station name', 'start station latitude',\n",
    "       'start station longitude', 'end station id', 'end station name',\n",
    "       'end station latitude', 'end station longitude', 'bikeid', 'usertype',\n",
    "       'birth year'], axis=1, inplace=True)\n",
    "df['starttime'] = pd.to_datetime(df['starttime'])\n",
    "df['time_of_day'] = df['starttime'].dt.hour\n",
    "df['night'] = df['time_of_day'] > 19\n",
    "df['morning'] = df['time_of_day'] < 7\n",
    "df['dark'] = df['night'] + df['morning'] == 1\n",
    "df.drop(['night', 'morning', 'starttime'], axis=1, inplace=True)\n",
    "df.head()"
   ]
  },
  {
   "cell_type": "code",
   "execution_count": 201,
   "metadata": {
    "collapsed": false
   },
   "outputs": [
    {
     "data": {
      "text/html": [
       "<div>\n",
       "<table border=\"1\" class=\"dataframe\">\n",
       "  <thead>\n",
       "    <tr style=\"text-align: right;\">\n",
       "      <th></th>\n",
       "      <th>men</th>\n",
       "      <th>women</th>\n",
       "      <th>ratio</th>\n",
       "      <th>dark</th>\n",
       "    </tr>\n",
       "  </thead>\n",
       "  <tbody>\n",
       "    <tr>\n",
       "      <th>0</th>\n",
       "      <td>187</td>\n",
       "      <td>39</td>\n",
       "      <td>4.794872</td>\n",
       "      <td>True</td>\n",
       "    </tr>\n",
       "    <tr>\n",
       "      <th>1</th>\n",
       "      <td>141</td>\n",
       "      <td>23</td>\n",
       "      <td>6.130435</td>\n",
       "      <td>True</td>\n",
       "    </tr>\n",
       "    <tr>\n",
       "      <th>2</th>\n",
       "      <td>58</td>\n",
       "      <td>5</td>\n",
       "      <td>11.600000</td>\n",
       "      <td>True</td>\n",
       "    </tr>\n",
       "    <tr>\n",
       "      <th>3</th>\n",
       "      <td>46</td>\n",
       "      <td>2</td>\n",
       "      <td>23.000000</td>\n",
       "      <td>True</td>\n",
       "    </tr>\n",
       "    <tr>\n",
       "      <th>4</th>\n",
       "      <td>54</td>\n",
       "      <td>21</td>\n",
       "      <td>2.571429</td>\n",
       "      <td>True</td>\n",
       "    </tr>\n",
       "  </tbody>\n",
       "</table>\n",
       "</div>"
      ],
      "text/plain": [
       "   men  women      ratio  dark\n",
       "0  187     39   4.794872  True\n",
       "1  141     23   6.130435  True\n",
       "2   58      5  11.600000  True\n",
       "3   46      2  23.000000  True\n",
       "4   54     21   2.571429  True"
      ]
     },
     "execution_count": 201,
     "metadata": {},
     "output_type": "execute_result"
    }
   ],
   "source": [
    "# Group by and get counts for men and women by hour\n",
    "hours = pd.Series(range(0,24))\n",
    "women = df.time_of_day[df.gender==2].\\\n",
    "        groupby(df['time_of_day']).count()\n",
    "men   = df.time_of_day[df.gender==1].\\\n",
    "        groupby(df['time_of_day']).count()\n",
    "dark = [True for i in range(0,24)]\n",
    "for i in range (7,19):\n",
    "    dark[i] = False\n",
    "\n",
    "# Create dataframe with proper counts\n",
    "hourly_data = pd.DataFrame(index=hours, columns=['men', 'women'])\n",
    "hourly_data['women'] = women\n",
    "hourly_data['men'] = men\n",
    "hourly_data['ratio'] = men/women\n",
    "hourly_data['dark'] = dark\n",
    "hourly_data.head()"
   ]
  },
  {
   "cell_type": "code",
   "execution_count": 202,
   "metadata": {
    "collapsed": false
   },
   "outputs": [
    {
     "data": {
      "text/plain": [
       "<matplotlib.text.Text at 0x1159f1b70>"
      ]
     },
     "execution_count": 202,
     "metadata": {},
     "output_type": "execute_result"
    },
    {
     "data": {
      "image/png": "[encoded data removed]",
      "text/plain": [
       "<matplotlib.figure.Figure at 0x120d473c8>"
      ]
     },
     "metadata": {},
     "output_type": "display_data"
    }
   ],
   "source": [
    "ax = hourly_data[['women', 'men']].plot(kind='bar', stacked=True)\n",
    "ax.set_xlabel('Hour')\n",
    "ax.set_ylabel('Hourly Ridership')\n",
    "ax.set_title('Male vs. Female Hourly Ridership (Count) - May 2017')"
   ]
  },
  {
   "cell_type": "markdown",
   "metadata": {},
   "source": [
    "**Figure:** We see that ridership tends to peak at commuting hours, particularly the morning, and that men tend to ride more than women, generally. This does not quite tell us if men are more likely to ride in the darker hours than women compared to their normal frequencies of riding more; to investigate this, we will need to further investigate the ratio of men to women riders over time."
   ]
  },
  {
   "cell_type": "code",
   "execution_count": 203,
   "metadata": {
    "collapsed": false
   },
   "outputs": [
    {
     "data": {
      "text/plain": [
       "<matplotlib.text.Text at 0x11728f588>"
      ]
     },
     "execution_count": 203,
     "metadata": {},
     "output_type": "execute_result"
    },
    {
     "data": {
      "image/png": "[encoded data removed]",
      "text/plain": [
       "<matplotlib.figure.Figure at 0x11e8e6470>"
      ]
     },
     "metadata": {},
     "output_type": "display_data"
    }
   ],
   "source": [
    "ax1 = hourly_data[['ratio']].plot()\n",
    "plt.plot((7,7),(0,23),'--', color='lightslategrey')\n",
    "plt.plot((19,19),(0,23),'--', color='lightslategrey')\n",
    "ax1.text(13, 12, r'Light', fontsize=15, horizontalalignment='center')\n",
    "ax1.text(3.5, 12, r'Dark', fontsize=15, horizontalalignment='center')\n",
    "ax1.text(21, 12, r'Dark', fontsize=15, horizontalalignment='center')\n",
    "\n",
    "ax1.set_title('Ratio by Hour')\n",
    "ax1.set_ylabel('(Male/Female)')\n",
    "ax1.set_xlabel('Hour')"
   ]
  },
  {
   "cell_type": "markdown",
   "metadata": {},
   "source": [
    "**Figure:** Here we see a plotted ratio of men vs. women riding citibikes over the aggregated course of days in May 2017. It seems like there is ample evidence that men, while riding more frequently than women overall (this could be contributed to commuting or other motives, particularly tend to ride more when it is dark outside, especially in early mornings. While there is no formal requirement to reject the null hypothesis in this assignment, it does not seem like it would stand, given the evidence available here."
   ]
  }
 ],
 "metadata": {
  "kernelspec": {
   "display_name": "Python 3",
   "language": "python",
   "name": "python3"
  },
  "language_info": {
   "codemirror_mode": {
    "name": "ipython",
    "version": 3
   },
   "file_extension": ".py",
   "mimetype": "text/x-python",
   "name": "python",
   "nbconvert_exporter": "python",
   "pygments_lexer": "ipython3",
   "version": "3.6.0"
  }
 },
 "nbformat": 4,
 "nbformat_minor": 2
}
