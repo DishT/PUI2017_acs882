{
 "cells": [
  {
   "cell_type": "code",
   "execution_count": 25,
   "metadata": {
    "collapsed": true
   },
   "outputs": [],
   "source": [
    "import pandas as pd\n",
    "import numpy as np\n",
    "new_times = pd.read_table('times.txt', header=None)"
   ]
  },
  {
   "cell_type": "markdown",
   "metadata": {},
   "source": [
    "#### Assumptions:\n",
    "These are bus trip times. <br/>\n",
    "The old mean is 36 minutes, with a standard deviation of 6 minutes.<br/>\n",
    "We are testing to see if the new bus is faster than the old bus."
   ]
  },
  {
   "cell_type": "markdown",
   "metadata": {},
   "source": [
    "#### Null Hypothesis:\n",
    "$H_0$ :  $ {Time_{\\mathrm{new}}} - {Time_{\\mathrm{old}}} >= 0 $<br/>\n",
    "The null hypothesis states that the new time will be greater than or equal to the old time."
   ]
  },
  {
   "cell_type": "markdown",
   "metadata": {},
   "source": [
    "#### Alternative Hypothesis:\n",
    "$H_1$ :  $ {Time_{\\mathrm{new}}} - {Time_{\\mathrm{old}}} < 0 $<br/>\n",
    "The alternative hypothesis states that the new time will be less than the old time."
   ]
  },
  {
   "cell_type": "code",
   "execution_count": 26,
   "metadata": {
    "collapsed": false
   },
   "outputs": [
    {
     "name": "stdout",
     "output_type": "stream",
     "text": [
      "new mean: 34.47 minutes\n",
      "new standard deviation: 7.14\n"
     ]
    }
   ],
   "source": [
    "print('new mean: {:,.2f} minutes'.format(new_times.mean()[0]))\n",
    "print('new standard deviation: {:,.2f}'.format(new_times.std()[0]))"
   ]
  },
  {
   "cell_type": "markdown",
   "metadata": {},
   "source": [
    "#### Z-Test:\n",
    "$Z = \\frac{\\mu_{old} - \\mu_{new}}{\\sigma_{old} / \\sqrt{N}}$"
   ]
  },
  {
   "cell_type": "code",
   "execution_count": 30,
   "metadata": {
    "collapsed": false
   },
   "outputs": [
    {
     "name": "stdout",
     "output_type": "stream",
     "text": [
      "Z-score: 2.56\n"
     ]
    }
   ],
   "source": [
    "mu_new = new_times.mean()[0]\n",
    "mu_old = 36\n",
    "std_old = 6\n",
    "N = 100\n",
    "Z = (mu_old - mu_new) / (std_old / np.sqrt(N))\n",
    "print(\"Z-score: {:,.2f}\".format(Z))"
   ]
  },
  {
   "cell_type": "markdown",
   "metadata": {},
   "source": [
    "#### Conclusion:\n",
    "The Z-score of 2.56 is above 2 standard deviations from the mean (at which p = 0.05). Because of this, we know that our p-value is < 0.05, and thus can reject the null hypothesis, and conclude that the new bus-route is indeed faster than the old route. "
   ]
  }
 ],
 "metadata": {
  "kernelspec": {
   "display_name": "Python 3",
   "language": "python",
   "name": "python3"
  },
  "language_info": {
   "codemirror_mode": {
    "name": "ipython",
    "version": 3
   },
   "file_extension": ".py",
   "mimetype": "text/x-python",
   "name": "python",
   "nbconvert_exporter": "python",
   "pygments_lexer": "ipython3",
   "version": "3.6.0"
  }
 },
 "nbformat": 4,
 "nbformat_minor": 2
}
