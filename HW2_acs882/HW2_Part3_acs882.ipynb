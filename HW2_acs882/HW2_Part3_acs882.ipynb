{
 "cells": [
  {
   "cell_type": "code",
   "execution_count": 45,
   "metadata": {
    "collapsed": false
   },
   "outputs": [
    {
     "name": "stdout",
     "output_type": "stream",
     "text": [
      "Populating the interactive namespace from numpy and matplotlib\n"
     ]
    }
   ],
   "source": [
    "from __future__ import print_function\n",
    "import numpy as np\n",
    "import pandas as pd\n",
    "import pylab as pl\n",
    "import seaborn\n",
    "import io\n",
    "import os\n",
    "import requests\n",
    "%pylab inline\n",
    "url = \"https://data.cityofnewyork.us/resource/g93m-jj4v.csv\"\n",
    "response = requests.get(url).content\n",
    "data = pd.read_csv(io.StringIO(response.decode('utf-8')))"
   ]
  },
  {
   "cell_type": "code",
   "execution_count": 46,
   "metadata": {
    "collapsed": false
   },
   "outputs": [
    {
     "data": {
      "text/html": [
       "<div>\n",
       "<table border=\"1\" class=\"dataframe\">\n",
       "  <thead>\n",
       "    <tr style=\"text-align: right;\">\n",
       "      <th></th>\n",
       "      <th>:@computed_region_92fq_4b7q</th>\n",
       "      <th>:@computed_region_efsh_h5xi</th>\n",
       "      <th>:@computed_region_f5dn_yrer</th>\n",
       "      <th>:@computed_region_sbqj_enih</th>\n",
       "      <th>:@computed_region_yeji_bk3q</th>\n",
       "      <th>amenities</th>\n",
       "      <th>average_weighted_rent</th>\n",
       "      <th>bbl</th>\n",
       "      <th>bin</th>\n",
       "      <th>borough</th>\n",
       "      <th>...</th>\n",
       "      <th>total_available_space_sf_</th>\n",
       "      <th>total_new_space_sf_</th>\n",
       "      <th>total_relet_space_sf_</th>\n",
       "      <th>total_sublet_space_sf_</th>\n",
       "      <th>total_vacant_avail_relet_space_sf_</th>\n",
       "      <th>total_vacant_avail_sublet_space_sf_</th>\n",
       "      <th>typical_floor_size</th>\n",
       "      <th>year_built</th>\n",
       "      <th>year_renovated</th>\n",
       "      <th>zoning</th>\n",
       "    </tr>\n",
       "  </thead>\n",
       "  <tbody>\n",
       "    <tr>\n",
       "      <th>0</th>\n",
       "      <td>10</td>\n",
       "      <td>13094</td>\n",
       "      <td>11</td>\n",
       "      <td>8</td>\n",
       "      <td>4</td>\n",
       "      <td>NaN</td>\n",
       "      <td>-</td>\n",
       "      <td>$1,010,150,004</td>\n",
       "      <td>$1,024,704</td>\n",
       "      <td>1</td>\n",
       "      <td>...</td>\n",
       "      <td>$nan</td>\n",
       "      <td>$nan</td>\n",
       "      <td>$nan</td>\n",
       "      <td>$nan</td>\n",
       "      <td>$nan</td>\n",
       "      <td>$nan</td>\n",
       "      <td>$1,696</td>\n",
       "      <td>$1,920</td>\n",
       "      <td>$nan</td>\n",
       "      <td>C6-4</td>\n",
       "    </tr>\n",
       "    <tr>\n",
       "      <th>1</th>\n",
       "      <td>10</td>\n",
       "      <td>13094</td>\n",
       "      <td>12</td>\n",
       "      <td>10</td>\n",
       "      <td>4</td>\n",
       "      <td>NaN</td>\n",
       "      <td>-</td>\n",
       "      <td>$1,010,370,020</td>\n",
       "      <td>$1,080,892</td>\n",
       "      <td>1</td>\n",
       "      <td>...</td>\n",
       "      <td>$nan</td>\n",
       "      <td>$nan</td>\n",
       "      <td>$nan</td>\n",
       "      <td>$nan</td>\n",
       "      <td>$nan</td>\n",
       "      <td>$nan</td>\n",
       "      <td>$1,709</td>\n",
       "      <td>$nan</td>\n",
       "      <td>$nan</td>\n",
       "      <td>NaN</td>\n",
       "    </tr>\n",
       "    <tr>\n",
       "      <th>2</th>\n",
       "      <td>10</td>\n",
       "      <td>13094</td>\n",
       "      <td>12</td>\n",
       "      <td>10</td>\n",
       "      <td>4</td>\n",
       "      <td>NaN</td>\n",
       "      <td>-</td>\n",
       "      <td>$1,010,370,035</td>\n",
       "      <td>$1,025,055</td>\n",
       "      <td>1</td>\n",
       "      <td>...</td>\n",
       "      <td>$nan</td>\n",
       "      <td>$nan</td>\n",
       "      <td>$nan</td>\n",
       "      <td>$nan</td>\n",
       "      <td>$nan</td>\n",
       "      <td>$nan</td>\n",
       "      <td>$2,054</td>\n",
       "      <td>$1,920</td>\n",
       "      <td>$nan</td>\n",
       "      <td>C6-4</td>\n",
       "    </tr>\n",
       "    <tr>\n",
       "      <th>3</th>\n",
       "      <td>10</td>\n",
       "      <td>13094</td>\n",
       "      <td>12</td>\n",
       "      <td>8</td>\n",
       "      <td>4</td>\n",
       "      <td>NaN</td>\n",
       "      <td>-</td>\n",
       "      <td>$1,010,350,036</td>\n",
       "      <td>$1,024,992</td>\n",
       "      <td>1</td>\n",
       "      <td>...</td>\n",
       "      <td>$nan</td>\n",
       "      <td>$nan</td>\n",
       "      <td>$nan</td>\n",
       "      <td>$nan</td>\n",
       "      <td>$nan</td>\n",
       "      <td>$nan</td>\n",
       "      <td>$8,439</td>\n",
       "      <td>$nan</td>\n",
       "      <td>$nan</td>\n",
       "      <td>NaN</td>\n",
       "    </tr>\n",
       "    <tr>\n",
       "      <th>4</th>\n",
       "      <td>10</td>\n",
       "      <td>12081</td>\n",
       "      <td>11</td>\n",
       "      <td>10</td>\n",
       "      <td>4</td>\n",
       "      <td>NaN</td>\n",
       "      <td>-</td>\n",
       "      <td>$nan</td>\n",
       "      <td>$nan</td>\n",
       "      <td>1</td>\n",
       "      <td>...</td>\n",
       "      <td>$nan</td>\n",
       "      <td>$nan</td>\n",
       "      <td>$nan</td>\n",
       "      <td>$nan</td>\n",
       "      <td>$nan</td>\n",
       "      <td>$nan</td>\n",
       "      <td>$5,000</td>\n",
       "      <td>$nan</td>\n",
       "      <td>$nan</td>\n",
       "      <td>NaN</td>\n",
       "    </tr>\n",
       "  </tbody>\n",
       "</table>\n",
       "<p>5 rows × 58 columns</p>\n",
       "</div>"
      ],
      "text/plain": [
       "   :@computed_region_92fq_4b7q  :@computed_region_efsh_h5xi  \\\n",
       "0                           10                        13094   \n",
       "1                           10                        13094   \n",
       "2                           10                        13094   \n",
       "3                           10                        13094   \n",
       "4                           10                        12081   \n",
       "\n",
       "   :@computed_region_f5dn_yrer  :@computed_region_sbqj_enih  \\\n",
       "0                           11                            8   \n",
       "1                           12                           10   \n",
       "2                           12                           10   \n",
       "3                           12                            8   \n",
       "4                           11                           10   \n",
       "\n",
       "   :@computed_region_yeji_bk3q amenities average_weighted_rent            bbl  \\\n",
       "0                            4       NaN                     - $1,010,150,004   \n",
       "1                            4       NaN                     - $1,010,370,020   \n",
       "2                            4       NaN                     - $1,010,370,035   \n",
       "3                            4       NaN                     - $1,010,350,036   \n",
       "4                            4       NaN                     -           $nan   \n",
       "\n",
       "         bin  borough   ...   total_available_space_sf_ total_new_space_sf_  \\\n",
       "0 $1,024,704        1   ...                        $nan                $nan   \n",
       "1 $1,080,892        1   ...                        $nan                $nan   \n",
       "2 $1,025,055        1   ...                        $nan                $nan   \n",
       "3 $1,024,992        1   ...                        $nan                $nan   \n",
       "4       $nan        1   ...                        $nan                $nan   \n",
       "\n",
       "  total_relet_space_sf_ total_sublet_space_sf_  \\\n",
       "0                  $nan                   $nan   \n",
       "1                  $nan                   $nan   \n",
       "2                  $nan                   $nan   \n",
       "3                  $nan                   $nan   \n",
       "4                  $nan                   $nan   \n",
       "\n",
       "  total_vacant_avail_relet_space_sf_ total_vacant_avail_sublet_space_sf_  \\\n",
       "0                               $nan                                $nan   \n",
       "1                               $nan                                $nan   \n",
       "2                               $nan                                $nan   \n",
       "3                               $nan                                $nan   \n",
       "4                               $nan                                $nan   \n",
       "\n",
       "  typical_floor_size  year_built  year_renovated  zoning  \n",
       "0             $1,696      $1,920            $nan    C6-4  \n",
       "1             $1,709        $nan            $nan     NaN  \n",
       "2             $2,054      $1,920            $nan    C6-4  \n",
       "3             $8,439        $nan            $nan     NaN  \n",
       "4             $5,000        $nan            $nan     NaN  \n",
       "\n",
       "[5 rows x 58 columns]"
      ]
     },
     "execution_count": 46,
     "metadata": {},
     "output_type": "execute_result"
    }
   ],
   "source": [
    "data.head()"
   ]
  },
  {
   "cell_type": "code",
   "execution_count": 47,
   "metadata": {
    "collapsed": false
   },
   "outputs": [
    {
     "data": {
      "text/html": [
       "<div>\n",
       "<table border=\"1\" class=\"dataframe\">\n",
       "  <thead>\n",
       "    <tr style=\"text-align: right;\">\n",
       "      <th></th>\n",
       "      <th>number_of_stories</th>\n",
       "      <th>typical_floor_size</th>\n",
       "    </tr>\n",
       "  </thead>\n",
       "  <tbody>\n",
       "    <tr>\n",
       "      <th>0</th>\n",
       "      <td>$5</td>\n",
       "      <td>$1,696</td>\n",
       "    </tr>\n",
       "    <tr>\n",
       "      <th>1</th>\n",
       "      <td>$4</td>\n",
       "      <td>$1,709</td>\n",
       "    </tr>\n",
       "    <tr>\n",
       "      <th>2</th>\n",
       "      <td>$5</td>\n",
       "      <td>$2,054</td>\n",
       "    </tr>\n",
       "    <tr>\n",
       "      <th>3</th>\n",
       "      <td>$3</td>\n",
       "      <td>$8,439</td>\n",
       "    </tr>\n",
       "    <tr>\n",
       "      <th>4</th>\n",
       "      <td>$2</td>\n",
       "      <td>$5,000</td>\n",
       "    </tr>\n",
       "  </tbody>\n",
       "</table>\n",
       "</div>"
      ],
      "text/plain": [
       "   number_of_stories  typical_floor_size\n",
       "0                 $5              $1,696\n",
       "1                 $4              $1,709\n",
       "2                 $5              $2,054\n",
       "3                 $3              $8,439\n",
       "4                 $2              $5,000"
      ]
     },
     "execution_count": 47,
     "metadata": {},
     "output_type": "execute_result"
    }
   ],
   "source": [
    "data1 = data.copy()\n",
    "for i in data.columns:\n",
    "    if i != 'number_of_stories' and i != 'typical_floor_size':\n",
    "        data.drop([i], axis=1, inplace=True)\n",
    "data.head()"
   ]
  },
  {
   "cell_type": "code",
   "execution_count": 48,
   "metadata": {
    "collapsed": false
   },
   "outputs": [
    {
     "data": {
      "text/plain": [
       "<matplotlib.text.Text at 0x7fcdf3461a90>"
      ]
     },
     "execution_count": 48,
     "metadata": {},
     "output_type": "execute_result"
    },
    {
     "data": {
      "image/png": "[encoded data removed]",
      "text/plain": [
       "<matplotlib.figure.Figure at 0x7fcdf398f3d0>"
      ]
     },
     "metadata": {},
     "output_type": "display_data"
    }
   ],
   "source": [
    "floors_by_stories = data.plot(['number_of_stories'],['typical_floor_size'],kind='scatter', \n",
    "                    title='Floor Size by # of Stories',\n",
    "                    xlim=(0,60), ylim=(0,70000))\n",
    "floors_by_stories.set_ylabel(\"Total Floor Size (sq. feet)\")\n",
    "floors_by_stories.set_xlabel(\"Number of Stories\")"
   ]
  },
  {
   "cell_type": "code",
   "execution_count": 49,
   "metadata": {
    "collapsed": false
   },
   "outputs": [
    {
     "data": {
      "text/html": [
       "<div>\n",
       "<table border=\"1\" class=\"dataframe\">\n",
       "  <thead>\n",
       "    <tr style=\"text-align: right;\">\n",
       "      <th></th>\n",
       "      <th>last_sale_date</th>\n",
       "      <th>last_sale_price</th>\n",
       "    </tr>\n",
       "  </thead>\n",
       "  <tbody>\n",
       "    <tr>\n",
       "      <th>6</th>\n",
       "      <td>1998-05-16</td>\n",
       "      <td>$4,100,000</td>\n",
       "    </tr>\n",
       "    <tr>\n",
       "      <th>7</th>\n",
       "      <td>2005-07-21</td>\n",
       "      <td>$605,000,000</td>\n",
       "    </tr>\n",
       "    <tr>\n",
       "      <th>8</th>\n",
       "      <td>2000-07-13</td>\n",
       "      <td>$59,990,000</td>\n",
       "    </tr>\n",
       "    <tr>\n",
       "      <th>12</th>\n",
       "      <td>2001-06-30</td>\n",
       "      <td>$29,000,000</td>\n",
       "    </tr>\n",
       "    <tr>\n",
       "      <th>13</th>\n",
       "      <td>1993-12-30</td>\n",
       "      <td>$147,712,500</td>\n",
       "    </tr>\n",
       "  </tbody>\n",
       "</table>\n",
       "</div>"
      ],
      "text/plain": [
       "   last_sale_date  last_sale_price\n",
       "6      1998-05-16       $4,100,000\n",
       "7      2005-07-21     $605,000,000\n",
       "8      2000-07-13      $59,990,000\n",
       "12     2001-06-30      $29,000,000\n",
       "13     1993-12-30     $147,712,500"
      ]
     },
     "execution_count": 49,
     "metadata": {},
     "output_type": "execute_result"
    }
   ],
   "source": [
    "for i in data1.columns:\n",
    "    if i != 'last_sale_price' and i != 'last_sale_date':\n",
    "        data1.drop([i], axis=1, inplace=True)\n",
    "data1 = data1.dropna(axis=0)\n",
    "data1['last_sale_date'] = pd.to_datetime(data1['last_sale_date'])\n",
    "pd.options.display.float_format = '${:,.0f}'.format\n",
    "data1.head()"
   ]
  },
  {
   "cell_type": "code",
   "execution_count": 50,
   "metadata": {
    "collapsed": false
   },
   "outputs": [
    {
     "data": {
      "text/plain": [
       "<matplotlib.text.Text at 0x7fcdf3788410>"
      ]
     },
     "execution_count": 50,
     "metadata": {},
     "output_type": "execute_result"
    },
    {
     "data": {
      "image/png": "[encoded data removed]",
      "text/plain": [
       "<matplotlib.figure.Figure at 0x7fcdf34071d0>"
      ]
     },
     "metadata": {},
     "output_type": "display_data"
    }
   ],
   "source": [
    "timePlot = data1.plot(style='.', x='last_sale_date', y='last_sale_price',\n",
    "           title='Time Square Properties: Sales Price by Year',\n",
    "           ylim=(0,1350000000), logy=True)\n",
    "timePlot.set_ylabel(\"Last Sales Price ($)\")\n",
    "timePlot.set_xlabel(\"Last Sale Date (yr)\")"
   ]
  },
  {
   "cell_type": "code",
   "execution_count": null,
   "metadata": {
    "collapsed": true
   },
   "outputs": [],
   "source": []
  }
 ],
 "metadata": {
  "kernelspec": {
   "display_name": "PUI2016_Python2",
   "language": "python",
   "name": "pui2016_python2"
  },
  "language_info": {
   "codemirror_mode": {
    "name": "ipython",
    "version": 2
   },
   "file_extension": ".py",
   "mimetype": "text/x-python",
   "name": "python",
   "nbconvert_exporter": "python",
   "pygments_lexer": "ipython2",
   "version": "2.7.12"
  }
 },
 "nbformat": 4,
 "nbformat_minor": 0
}
